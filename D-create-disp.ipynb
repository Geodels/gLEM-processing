{
 "cells": [
  {
   "cell_type": "code",
   "execution_count": 1,
   "metadata": {},
   "outputs": [],
   "source": [
    "import meshio\n",
    "import numpy as np\n",
    "import pandas as pd\n",
    "from scipy import ndimage"
   ]
  },
  {
   "cell_type": "markdown",
   "metadata": {},
   "source": [
    "# Reading global mesh information"
   ]
  },
  {
   "cell_type": "code",
   "execution_count": 14,
   "metadata": {},
   "outputs": [],
   "source": [
    "dir_lvl = 'lvl_8'"
   ]
  },
  {
   "cell_type": "code",
   "execution_count": 15,
   "metadata": {},
   "outputs": [
    {
     "name": "stdout",
     "output_type": "stream",
     "text": [
      "Field names: ['c', 'n', 'v']\n"
     ]
    }
   ],
   "source": [
    "mesh_struct = np.load(dir_lvl+'/mesh.npz')\n",
    "\n",
    "print(\"Field names: {}\".format(mesh_struct.files))\n",
    "\n",
    "ngbIDs = mesh_struct['n']\n",
    "vertices = mesh_struct['v']\n",
    "cells = mesh_struct['c']"
   ]
  },
  {
   "cell_type": "code",
   "execution_count": 16,
   "metadata": {},
   "outputs": [
    {
     "name": "stdout",
     "output_type": "stream",
     "text": [
      "Field names: ['v']\n"
     ]
    }
   ],
   "source": [
    "mesh_lonlat = np.load(dir_lvl+'/icoord_elev.npz')\n",
    "\n",
    "print(\"Field names: {}\".format(mesh_lonlat.files))\n",
    "\n",
    "coords = mesh_lonlat['v']"
   ]
  },
  {
   "cell_type": "markdown",
   "metadata": {},
   "source": [
    "## Reading paleo-displacement grids"
   ]
  },
  {
   "cell_type": "code",
   "execution_count": 17,
   "metadata": {},
   "outputs": [],
   "source": [
    "def buildPaleoDisp(gPlates=None, outfile=None, visvtk=False):\n",
    "    '''\n",
    "    Reading paleo-displacement grids\n",
    "    '''\n",
    "\n",
    "    # Open gPlates 1 degree 3D displacement maps (xy files)\n",
    "    data = pd.read_csv(gPlates, sep=r'\\s+', engine='c', header=None, skiprows=[0,1,2,3,4,5,65166],\n",
    "                       error_bad_lines=True, na_filter=False, dtype=np.float, low_memory=False)\n",
    "\n",
    "    # Read dataset\n",
    "    lon = data.values[:,0]\n",
    "    lat = data.values[:,1]\n",
    "\n",
    "    # Conversion from cm/yr to m/yr\n",
    "    tmpx = data.values[:,2]/100.\n",
    "    tmpy = data.values[:,3]/100.\n",
    "    tmpz = data.values[:,4]/100.\n",
    "\n",
    "    # Reshape dataset\n",
    "    tmpx = np.fliplr(tmpx.reshape((181,360)).T)\n",
    "    tmpy = np.fliplr(tmpy.reshape((181,360)).T)\n",
    "    tmpz = np.fliplr(tmpz.reshape((181,360)).T)\n",
    "    dispX = np.zeros((361,181))\n",
    "    dispY = np.zeros((361,181))\n",
    "    dispZ = np.zeros((361,181))\n",
    "    dispX[:360,:] = tmpx\n",
    "    dispX[-1,:] = tmpx[0,:]\n",
    "    dispY[:360,:] = tmpy\n",
    "    dispY[-1,:] = tmpy[0,:]\n",
    "    dispZ[:360,:] = tmpz\n",
    "    dispZ[-1,:] = tmpz[0,:]\n",
    "\n",
    "    # Interpolate the paleo displacement on global mesh\n",
    "    dX = ndimage.map_coordinates(dispX , coords/10., order=3, mode='nearest').astype(np.float)\n",
    "    dY = ndimage.map_coordinates(dispY , coords/10., order=3, mode='nearest').astype(np.float)\n",
    "    dZ = ndimage.map_coordinates(dispZ , coords/10., order=3, mode='nearest').astype(np.float)\n",
    "    disps = np.stack((dX, dY, dZ)).T\n",
    "\n",
    "    # Save the mesh as compressed numpy file for global simulation\n",
    "    np.savez_compressed(outfile, xyz=disps)\n",
    "\n",
    "    if visvtk:\n",
    "        vis_mesh = meshio.Mesh(vertices, {'triangle': cells}, point_data={\"ux\":dX,\"uy\":dY,\"uz\":dZ})\n",
    "        meshio.write(outfile+\".vtk\", vis_mesh)\n",
    "        print(\"Writing VTK file {}\".format(outfile+\".vtk\"))\n",
    "\n",
    "    print(\"Processing {} to create {}\".format(gPlates,outfile+\".npz\"))\n",
    "\n",
    "    return"
   ]
  },
  {
   "cell_type": "code",
   "execution_count": 18,
   "metadata": {},
   "outputs": [],
   "source": [
    "# Specify most recent time in Ma\n",
    "startMa = 0\n",
    "# Specify deepest time in Ma\n",
    "endMa = 10\n",
    "# Specify paleodisp interval\n",
    "dtMa = 1"
   ]
  },
  {
   "cell_type": "code",
   "execution_count": null,
   "metadata": {},
   "outputs": [
    {
     "name": "stdout",
     "output_type": "stream",
     "text": [
      "Writing VTK file lvl_8/disp0Ma.vtk\n",
      "Processing data/gPlates-velocity/velocity_0.00Ma.xy to create lvl_8/disp0Ma.npz\n",
      "Processing data/gPlates-velocity/velocity_1.00Ma.xy to create lvl_8/disp1Ma.npz\n",
      "Processing data/gPlates-velocity/velocity_2.00Ma.xy to create lvl_8/disp2Ma.npz\n",
      "Processing data/gPlates-velocity/velocity_3.00Ma.xy to create lvl_8/disp3Ma.npz\n",
      "Processing data/gPlates-velocity/velocity_4.00Ma.xy to create lvl_8/disp4Ma.npz\n",
      "Processing data/gPlates-velocity/velocity_5.00Ma.xy to create lvl_8/disp5Ma.npz\n",
      "Processing data/gPlates-velocity/velocity_6.00Ma.xy to create lvl_8/disp6Ma.npz\n",
      "Processing data/gPlates-velocity/velocity_7.00Ma.xy to create lvl_8/disp7Ma.npz\n"
     ]
    }
   ],
   "source": [
    "timeframe = np.flipud(np.arange(startMa,endMa+dtMa,dtMa))\n",
    "\n",
    "for k in range(len(timeframe)):\n",
    "    f_gplates = 'data/gPlates-velocity/velocity_'+str(k)+'.00Ma.xy'\n",
    "    paleo_disp = dir_lvl+'/disp'+str(k)+'Ma'\n",
    "    if k == 0:\n",
    "        buildPaleoDisp(gPlates=f_gplates, outfile=paleo_disp, visvtk=True) \n",
    "    else:\n",
    "        buildPaleoDisp(gPlates=f_gplates, outfile=paleo_disp, visvtk=False) "
   ]
  },
  {
   "cell_type": "code",
   "execution_count": null,
   "metadata": {},
   "outputs": [],
   "source": []
  },
  {
   "cell_type": "code",
   "execution_count": null,
   "metadata": {},
   "outputs": [],
   "source": []
  },
  {
   "cell_type": "code",
   "execution_count": null,
   "metadata": {},
   "outputs": [],
   "source": []
  },
  {
   "cell_type": "code",
   "execution_count": null,
   "metadata": {},
   "outputs": [],
   "source": []
  }
 ],
 "metadata": {
  "kernelspec": {
   "display_name": "Python 3",
   "language": "python",
   "name": "python3"
  },
  "language_info": {
   "codemirror_mode": {
    "name": "ipython",
    "version": 3
   },
   "file_extension": ".py",
   "mimetype": "text/x-python",
   "name": "python",
   "nbconvert_exporter": "python",
   "pygments_lexer": "ipython3",
   "version": "3.5.3"
  }
 },
 "nbformat": 4,
 "nbformat_minor": 2
}
