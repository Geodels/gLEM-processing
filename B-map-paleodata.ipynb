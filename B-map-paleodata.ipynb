{
 "cells": [
  {
   "cell_type": "code",
   "execution_count": 1,
   "metadata": {},
   "outputs": [],
   "source": [
    "import meshio\n",
    "import numpy as np\n",
    "import pandas as pd\n",
    "from scipy import ndimage\n",
    "from netCDF4 import Dataset"
   ]
  },
  {
   "cell_type": "markdown",
   "metadata": {},
   "source": [
    "# Reading global mesh information\n",
    "\n",
    "First we read the spherical mesh structure for the considered resolution:"
   ]
  },
  {
   "cell_type": "code",
   "execution_count": 24,
   "metadata": {},
   "outputs": [],
   "source": [
    "dir_lvl = 'lvl_8'"
   ]
  },
  {
   "cell_type": "code",
   "execution_count": 25,
   "metadata": {},
   "outputs": [
    {
     "name": "stdout",
     "output_type": "stream",
     "text": [
      "Field names: ['c', 'n', 'v']\n"
     ]
    }
   ],
   "source": [
    "mesh_struct = np.load(dir_lvl+'/mesh.npz')\n",
    "\n",
    "print(\"Field names: {}\".format(mesh_struct.files))\n",
    "\n",
    "ngbIDs = mesh_struct['n']\n",
    "vertices = mesh_struct['v']\n",
    "cells = mesh_struct['c']"
   ]
  },
  {
   "cell_type": "markdown",
   "metadata": {},
   "source": [
    "## Paleodata interpolation function"
   ]
  },
  {
   "cell_type": "code",
   "execution_count": 26,
   "metadata": {},
   "outputs": [],
   "source": [
    "def buildPaleoMesh(time, infile, outfile, rain=False, visvtk=False, filter=2):\n",
    "    \n",
    "    paleof = infile+str(time)+\"Ma.nc\"\n",
    "    paleom = outfile+str(time)+\"Ma\"\n",
    "\n",
    "    paleodata = Dataset(paleof, \"r\", format=\"NETCDF4\")\n",
    "    \n",
    "    if rain:\n",
    "        paleod = paleodata['z'][:,:].T\n",
    "    else:\n",
    "        paleod = np.fliplr(paleodata['z'][:,:].T)\n",
    "    \n",
    "    # Apply some smoothing if necessary...\n",
    "    if filter>0:\n",
    "        paleod = ndimage.gaussian_filter(paleod,sigma=filter)\n",
    "\n",
    "    if rain:\n",
    "        # Interpolate the paleogrid on global mesh\n",
    "        meshd = ndimage.map_coordinates(paleod, coords , order=2, mode='nearest').astype(np.float)\n",
    "        # Save the mesh as compressed numpy file for global simulation\n",
    "        np.savez_compressed(paleom, v=vertices, c=cells, n=ngbIDs.astype(int), r=meshd)\n",
    "    else:\n",
    "        # Interpolate the paleogrid on global mesh\n",
    "        meshd = ndimage.map_coordinates(paleod, coords , order=2, mode='nearest').astype(np.float)\n",
    "        # Save the mesh as compressed numpy file for global simulation\n",
    "        np.savez_compressed(paleom, v=vertices, c=cells, n=ngbIDs.astype(int), z=meshd)\n",
    "        \n",
    "    print(\"Processing {} to create {} done\".format(paleof,paleom+\".npz\"))\n",
    "    \n",
    "    if visvtk:\n",
    "        paleovtk = outfile+str(time)+\"Ma.vtk\"\n",
    "        if rain:\n",
    "            vis_mesh = meshio.Mesh(vertices, {'triangle': cells}, point_data={\"r\":meshd})\n",
    "        else:\n",
    "            vis_mesh = meshio.Mesh(vertices, {'triangle': cells}, point_data={\"z\":meshd})\n",
    "        meshio.write(paleovtk, vis_mesh)\n",
    "        print(\"Writing VTK file {}\".format(paleovtk))\n",
    "\n",
    "    return"
   ]
  },
  {
   "cell_type": "markdown",
   "metadata": {},
   "source": [
    "## Reading paleodataset\n",
    "\n",
    "It is assumed that the paleodata files are named using the following convention XXMa.nc where XX is the number of million year before present. \n",
    "\n",
    "### Paleo-elevation"
   ]
  },
  {
   "cell_type": "markdown",
   "metadata": {},
   "source": [
    "We load the corresponding longitudes and latitudes coordinates"
   ]
  },
  {
   "cell_type": "code",
   "execution_count": 27,
   "metadata": {},
   "outputs": [
    {
     "name": "stdout",
     "output_type": "stream",
     "text": [
      "Field names: ['v']\n"
     ]
    }
   ],
   "source": [
    "mesh_lonlat = np.load(dir_lvl+'/icoord_elev.npz')\n",
    "\n",
    "print(\"Field names: {}\".format(mesh_lonlat.files))\n",
    "\n",
    "coords = mesh_lonlat['v']"
   ]
  },
  {
   "cell_type": "code",
   "execution_count": 28,
   "metadata": {},
   "outputs": [
    {
     "name": "stdout",
     "output_type": "stream",
     "text": [
      "Processing data/Scotese-paleomap/70Ma.nc to create lvl_8/elev70Ma.npz done\n",
      "Writing VTK file lvl_8/elev70Ma.vtk\n"
     ]
    }
   ],
   "source": [
    "efile = \"data/Scotese-paleomap/\"\n",
    "outfile = dir_lvl+\"/elev\"\n",
    "\n",
    "timeframe = 70\n",
    "\n",
    "buildPaleoMesh(timeframe, efile, outfile, rain=False, visvtk=True)"
   ]
  },
  {
   "cell_type": "markdown",
   "metadata": {},
   "source": [
    "We can do it in a loop like this:"
   ]
  },
  {
   "cell_type": "code",
   "execution_count": 29,
   "metadata": {},
   "outputs": [],
   "source": [
    "infile = \"data/Scotese-paleomap/\"\n",
    "outfile = dir_lvl+\"/elev\"\n",
    "\n",
    "# Specify most recent time in Ma\n",
    "startMa = 0\n",
    "# Specify deepest time in Ma\n",
    "endMa = 70\n",
    "# Specify paleomap interval\n",
    "dtMa = 5"
   ]
  },
  {
   "cell_type": "code",
   "execution_count": 30,
   "metadata": {},
   "outputs": [
    {
     "name": "stdout",
     "output_type": "stream",
     "text": [
      "Processing data/Scotese-paleomap/70Ma.nc to create lvl_8/elev70Ma.npz done\n",
      "Writing VTK file lvl_8/elev70Ma.vtk\n",
      "Processing data/Scotese-paleomap/65Ma.nc to create lvl_8/elev65Ma.npz done\n",
      "Processing data/Scotese-paleomap/60Ma.nc to create lvl_8/elev60Ma.npz done\n",
      "Processing data/Scotese-paleomap/55Ma.nc to create lvl_8/elev55Ma.npz done\n",
      "Processing data/Scotese-paleomap/50Ma.nc to create lvl_8/elev50Ma.npz done\n",
      "Processing data/Scotese-paleomap/45Ma.nc to create lvl_8/elev45Ma.npz done\n",
      "Processing data/Scotese-paleomap/40Ma.nc to create lvl_8/elev40Ma.npz done\n",
      "Processing data/Scotese-paleomap/35Ma.nc to create lvl_8/elev35Ma.npz done\n",
      "Processing data/Scotese-paleomap/30Ma.nc to create lvl_8/elev30Ma.npz done\n",
      "Processing data/Scotese-paleomap/25Ma.nc to create lvl_8/elev25Ma.npz done\n",
      "Processing data/Scotese-paleomap/20Ma.nc to create lvl_8/elev20Ma.npz done\n",
      "Processing data/Scotese-paleomap/15Ma.nc to create lvl_8/elev15Ma.npz done\n",
      "Processing data/Scotese-paleomap/10Ma.nc to create lvl_8/elev10Ma.npz done\n",
      "Processing data/Scotese-paleomap/5Ma.nc to create lvl_8/elev5Ma.npz done\n",
      "Processing data/Scotese-paleomap/0Ma.nc to create lvl_8/elev0Ma.npz done\n"
     ]
    }
   ],
   "source": [
    "timeframe = np.flipud(np.arange(startMa,endMa+dtMa,dtMa))\n",
    "\n",
    "for k in range(len(timeframe)):\n",
    "    if k == 0:\n",
    "        buildPaleoMesh(int(timeframe[k]), infile, outfile, rain=False, visvtk=True)\n",
    "    else:\n",
    "        buildPaleoMesh(int(timeframe[k]), infile, outfile, rain=False, visvtk=False)"
   ]
  },
  {
   "cell_type": "markdown",
   "metadata": {},
   "source": [
    "### Paleo-precipitation\n",
    "\n",
    "We can proceed in a similar way to extract the paleo-precipitation dataset..."
   ]
  },
  {
   "cell_type": "code",
   "execution_count": 31,
   "metadata": {},
   "outputs": [
    {
     "name": "stdout",
     "output_type": "stream",
     "text": [
      "Field names: ['v']\n"
     ]
    }
   ],
   "source": [
    "mesh_lonlat = np.load(dir_lvl+'/icoord_rain.npz')\n",
    "\n",
    "print(\"Field names: {}\".format(mesh_lonlat.files))\n",
    "\n",
    "coords = mesh_lonlat['v']"
   ]
  },
  {
   "cell_type": "code",
   "execution_count": 32,
   "metadata": {},
   "outputs": [],
   "source": [
    "rfile = \"data/Scotese-precipitation/\"\n",
    "outfile = dir_lvl+\"/rain\"\n",
    "\n",
    "# Specify most recent time in Ma\n",
    "startMa = 0\n",
    "# Specify deepest time in Ma\n",
    "endMa = 70\n",
    "# Specify paleomap interval\n",
    "dtMa = 5"
   ]
  },
  {
   "cell_type": "code",
   "execution_count": 33,
   "metadata": {},
   "outputs": [
    {
     "name": "stdout",
     "output_type": "stream",
     "text": [
      "Processing data/Scotese-precipitation/70Ma.nc to create lvl_8/rain70Ma.npz done\n",
      "Writing VTK file lvl_8/rain70Ma.vtk\n",
      "Processing data/Scotese-precipitation/65Ma.nc to create lvl_8/rain65Ma.npz done\n",
      "Processing data/Scotese-precipitation/60Ma.nc to create lvl_8/rain60Ma.npz done\n",
      "Processing data/Scotese-precipitation/55Ma.nc to create lvl_8/rain55Ma.npz done\n",
      "Processing data/Scotese-precipitation/50Ma.nc to create lvl_8/rain50Ma.npz done\n",
      "Processing data/Scotese-precipitation/45Ma.nc to create lvl_8/rain45Ma.npz done\n",
      "Processing data/Scotese-precipitation/40Ma.nc to create lvl_8/rain40Ma.npz done\n",
      "Processing data/Scotese-precipitation/35Ma.nc to create lvl_8/rain35Ma.npz done\n",
      "Processing data/Scotese-precipitation/30Ma.nc to create lvl_8/rain30Ma.npz done\n",
      "Processing data/Scotese-precipitation/25Ma.nc to create lvl_8/rain25Ma.npz done\n",
      "Processing data/Scotese-precipitation/20Ma.nc to create lvl_8/rain20Ma.npz done\n",
      "Processing data/Scotese-precipitation/15Ma.nc to create lvl_8/rain15Ma.npz done\n",
      "Processing data/Scotese-precipitation/10Ma.nc to create lvl_8/rain10Ma.npz done\n",
      "Processing data/Scotese-precipitation/5Ma.nc to create lvl_8/rain5Ma.npz done\n",
      "Processing data/Scotese-precipitation/0Ma.nc to create lvl_8/rain0Ma.npz done\n"
     ]
    }
   ],
   "source": [
    "timeframe = np.flipud(np.arange(startMa,endMa+dtMa,dtMa))\n",
    "\n",
    "for k in range(len(timeframe)):\n",
    "    if k == 0:\n",
    "        buildPaleoMesh(int(timeframe[k]), rfile, outfile, rain=True, visvtk=True)\n",
    "    else:\n",
    "        buildPaleoMesh(int(timeframe[k]), rfile, outfile, rain=True, visvtk=False)"
   ]
  },
  {
   "cell_type": "code",
   "execution_count": null,
   "metadata": {},
   "outputs": [],
   "source": []
  }
 ],
 "metadata": {
  "kernelspec": {
   "display_name": "Python 3",
   "language": "python",
   "name": "python3"
  },
  "language_info": {
   "codemirror_mode": {
    "name": "ipython",
    "version": 3
   },
   "file_extension": ".py",
   "mimetype": "text/x-python",
   "name": "python",
   "nbconvert_exporter": "python",
   "pygments_lexer": "ipython3",
   "version": "3.5.3"
  }
 },
 "nbformat": 4,
 "nbformat_minor": 2
}
