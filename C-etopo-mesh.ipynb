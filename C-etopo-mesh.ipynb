{
 "cells": [
  {
   "cell_type": "code",
   "execution_count": 1,
   "metadata": {},
   "outputs": [],
   "source": [
    "import gdal\n",
    "import numpy as np\n",
    "from scipy import ndimage"
   ]
  },
  {
   "cell_type": "markdown",
   "metadata": {},
   "source": [
    "# ETOPO1 GeoTIFF\n",
    "\n",
    "\n",
    "GeoTIFF is the most versatile raster format for geo-referenced imagery and is the default for all `gdal` utilities.\n",
    "\n",
    "We load the ETOPO1 GeoTiff that can be downloaded from NOAA website: \n",
    "**https://www.ngdc.noaa.gov/mgg/global/global.html**"
   ]
  },
  {
   "cell_type": "code",
   "execution_count": 15,
   "metadata": {},
   "outputs": [],
   "source": [
    "dir_lvl = 'lvl_8'"
   ]
  },
  {
   "cell_type": "code",
   "execution_count": 16,
   "metadata": {},
   "outputs": [],
   "source": [
    "gtiff = gdal.Open(\"data/ETOPO1.tif\")\n",
    "\n",
    "width = gtiff.RasterXSize\n",
    "height = gtiff.RasterYSize\n",
    "gt = gtiff.GetGeoTransform()\n",
    "img = gtiff.GetRasterBand(1).ReadAsArray().T\n",
    "img = np.fliplr(img)"
   ]
  },
  {
   "cell_type": "markdown",
   "metadata": {},
   "source": [
    "# Mapping dataset on the sphere\n",
    "\n",
    "Now we map the ETOPO1 elevation to the spherical mesh by interpolation using **scipy** [**`map_coordinates`**](https://docs.scipy.org/doc/scipy-0.14.0/reference/generated/scipy.ndimage.interpolation.map_coordinates.html.)\n",
    "\n",
    "Our spherical mesh is defined on the unit sphere and the longitudes and latitudes range from [$-\\pi,\\pi$] and [-$\\pi/2,\\pi/2$] respectively. \n",
    "\n",
    "We first convert the points in degrees and map their position with respect to ETOPO1 dataset shape."
   ]
  },
  {
   "cell_type": "code",
   "execution_count": 17,
   "metadata": {},
   "outputs": [
    {
     "name": "stdout",
     "output_type": "stream",
     "text": [
      "Field names: ['v']\n"
     ]
    }
   ],
   "source": [
    "mesh_lonlat = np.load(dir_lvl+'/icoord_etopo.npz')\n",
    "\n",
    "print(\"Field names: {}\".format(mesh_lonlat.files))\n",
    "\n",
    "icoords = mesh_lonlat['v']"
   ]
  },
  {
   "cell_type": "markdown",
   "metadata": {},
   "source": [
    "We then performe the interpolation..."
   ]
  },
  {
   "cell_type": "code",
   "execution_count": 18,
   "metadata": {},
   "outputs": [],
   "source": [
    "elevations = ndimage.map_coordinates(img, icoords , order=3, mode='nearest').astype(np.float)"
   ]
  },
  {
   "cell_type": "markdown",
   "metadata": {},
   "source": [
    "We now load the mesh information from the `A-create-base-mesh` notebook."
   ]
  },
  {
   "cell_type": "code",
   "execution_count": 19,
   "metadata": {},
   "outputs": [
    {
     "name": "stdout",
     "output_type": "stream",
     "text": [
      "Field names: ['c', 'n', 'v']\n"
     ]
    }
   ],
   "source": [
    "mesh_struct = np.load(dir_lvl+'/mesh.npz')\n",
    "\n",
    "print(\"Field names: {}\".format(mesh_struct.files))\n",
    "\n",
    "cells = mesh_struct['c']\n",
    "ngbIDs = mesh_struct['n']\n",
    "vertices = mesh_struct['v']"
   ]
  },
  {
   "cell_type": "markdown",
   "metadata": {},
   "source": [
    "And now we can store the elevation mesh to run with the simulation..."
   ]
  },
  {
   "cell_type": "code",
   "execution_count": 20,
   "metadata": {},
   "outputs": [],
   "source": [
    "etopofile = dir_lvl+'/etopo'\n",
    "np.savez_compressed(etopofile, v=vertices, c=cells, \n",
    "                    n=ngbIDs.astype(int), z=elevations)"
   ]
  },
  {
   "cell_type": "markdown",
   "metadata": {},
   "source": [
    "We can export the mesh as a `VTK` file to check everything work well!"
   ]
  },
  {
   "cell_type": "code",
   "execution_count": 8,
   "metadata": {},
   "outputs": [
    {
     "name": "stdout",
     "output_type": "stream",
     "text": [
      "Writing VTK file lvl_9/etopo.vtk\n"
     ]
    }
   ],
   "source": [
    "import meshio\n",
    "\n",
    "etopovtk = dir_lvl+\"/etopo.vtk\"\n",
    "vis_mesh = meshio.Mesh(vertices, {'triangle': cells}, point_data={\"z\":elevations})\n",
    "meshio.write(etopovtk, vis_mesh)\n",
    "\n",
    "print(\"Writing VTK file {}\".format(etopovtk))"
   ]
  },
  {
   "cell_type": "code",
   "execution_count": null,
   "metadata": {},
   "outputs": [],
   "source": []
  }
 ],
 "metadata": {
  "kernelspec": {
   "display_name": "Python 3",
   "language": "python",
   "name": "python3"
  },
  "language_info": {
   "codemirror_mode": {
    "name": "ipython",
    "version": 3
   },
   "file_extension": ".py",
   "mimetype": "text/x-python",
   "name": "python",
   "nbconvert_exporter": "python",
   "pygments_lexer": "ipython3",
   "version": "3.5.3"
  }
 },
 "nbformat": 4,
 "nbformat_minor": 2
}
