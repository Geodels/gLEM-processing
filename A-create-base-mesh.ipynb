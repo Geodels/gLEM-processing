{
 "cells": [
  {
   "cell_type": "code",
   "execution_count": 1,
   "metadata": {},
   "outputs": [],
   "source": [
    "import gdal\n",
    "import meshplex\n",
    "import numpy as np\n",
    "import stripy as stripy\n",
    "from netCDF4 import Dataset\n",
    "\n",
    "from gLEM._fortran import defineGTIN"
   ]
  },
  {
   "cell_type": "markdown",
   "metadata": {},
   "source": [
    "# Create global mesh\n",
    "\n",
    "Define the refinement level to increase resolution."
   ]
  },
  {
   "cell_type": "code",
   "execution_count": 2,
   "metadata": {},
   "outputs": [],
   "source": [
    "ref_lvl = 8\n",
    "dir_lvl = 'lvl_8'"
   ]
  },
  {
   "cell_type": "markdown",
   "metadata": {},
   "source": [
    "Build the mesh"
   ]
  },
  {
   "cell_type": "code",
   "execution_count": 3,
   "metadata": {},
   "outputs": [
    {
     "name": "stdout",
     "output_type": "stream",
     "text": [
      "Number of points             655362\n",
      "Number of cells             1310720\n"
     ]
    }
   ],
   "source": [
    "grid = stripy.spherical_meshes.icosahedral_mesh(include_face_points=False, \n",
    "                                                refinement_levels=ref_lvl)\n",
    "\n",
    "str_fmt = \"{:25} {:9}\"\n",
    "print(str_fmt.format('Number of points', grid.npoints))\n",
    "print(str_fmt.format('Number of cells', grid.simplices.shape[0]))"
   ]
  },
  {
   "cell_type": "code",
   "execution_count": 4,
   "metadata": {},
   "outputs": [],
   "source": [
    "radius = 6378137.\n",
    "\n",
    "coords = np.vstack((grid.points[:,0],grid.points[:,1]))\n",
    "coords = np.vstack((coords,grid.points[:,2])).T\n",
    "coords = np.multiply(coords,radius)"
   ]
  },
  {
   "cell_type": "markdown",
   "metadata": {},
   "source": [
    "Define mesh cells and nodes neighbourhood"
   ]
  },
  {
   "cell_type": "code",
   "execution_count": 5,
   "metadata": {},
   "outputs": [],
   "source": [
    "Gmesh = meshplex.mesh_tri.MeshTri(coords, grid.simplices)"
   ]
  },
  {
   "cell_type": "code",
   "execution_count": 6,
   "metadata": {},
   "outputs": [],
   "source": [
    "s = Gmesh.idx_hierarchy.shape\n",
    "a = np.sort(Gmesh.idx_hierarchy.reshape(s[0], -1).T)\n",
    "Gmesh.edges = {\"nodes\": np.unique(a, axis=0)}"
   ]
  },
  {
   "cell_type": "code",
   "execution_count": 7,
   "metadata": {},
   "outputs": [],
   "source": [
    "ngbNbs, ngbID = defineGTIN(len(coords), Gmesh.cells['nodes'], Gmesh.edges['nodes'])"
   ]
  },
  {
   "cell_type": "markdown",
   "metadata": {},
   "source": [
    "Store mesh information:\n",
    "\n",
    "* v: vertex coordinates\n",
    "* c: triangular cell node index\n",
    "* n: vertex neighbours for each node"
   ]
  },
  {
   "cell_type": "code",
   "execution_count": 8,
   "metadata": {},
   "outputs": [],
   "source": [
    "np.savez_compressed(dir_lvl+'/mesh', v=coords, c=grid.simplices, \n",
    "                    n=ngbID[:,:6].astype(int))"
   ]
  },
  {
   "cell_type": "markdown",
   "metadata": {},
   "source": [
    "# Longitude latitude mesh coordinates \n",
    "\n",
    "Depending of the resolution of the input data different mesh have to be created...\n",
    "\n",
    "## Scotese paleo-elevation"
   ]
  },
  {
   "cell_type": "code",
   "execution_count": 9,
   "metadata": {},
   "outputs": [],
   "source": [
    "elevfile = \"data/Scotese-paleomap/60Ma.nc\""
   ]
  },
  {
   "cell_type": "code",
   "execution_count": 10,
   "metadata": {},
   "outputs": [],
   "source": [
    "data = Dataset(elevfile, \"r\", format=\"NETCDF4\")\n",
    "img = np.fliplr(data['z'][:,:].T)\n",
    "\n",
    "# Convert spherical mesh longitudes and latitudes to degrees\n",
    "glat=np.mod(np.degrees(grid.lats)+90, 180.0)\n",
    "glon=np.mod(np.degrees(grid.lons)+180.0, 360.0)\n",
    "\n",
    "ilons = img.shape[0] * glon / 360.0\n",
    "ilats = img.shape[1] * glat / 180.0\n",
    "icoords = np.stack((ilons, ilats))"
   ]
  },
  {
   "cell_type": "markdown",
   "metadata": {},
   "source": [
    "Store mesh information:\n",
    "\n",
    "* lat: latitude of each node\n",
    "* lon: longitude of each node"
   ]
  },
  {
   "cell_type": "code",
   "execution_count": 11,
   "metadata": {},
   "outputs": [],
   "source": [
    "np.savez_compressed(dir_lvl+'/icoord_elev', v=icoords)"
   ]
  },
  {
   "cell_type": "markdown",
   "metadata": {},
   "source": [
    "## Scotese paleo-precipitation"
   ]
  },
  {
   "cell_type": "code",
   "execution_count": 12,
   "metadata": {},
   "outputs": [],
   "source": [
    "rainfile = \"data/Scotese-precipitation/60Ma.nc\""
   ]
  },
  {
   "cell_type": "code",
   "execution_count": 13,
   "metadata": {},
   "outputs": [],
   "source": [
    "data = Dataset(rainfile, \"r\", format=\"NETCDF4\")\n",
    "img = np.fliplr(data['z'][:,:].T)\n",
    "\n",
    "# Convert spherical mesh longitudes and latitudes to degrees\n",
    "dlons = np.mod(np.degrees(grid.lons)+180.0, 360.0)\n",
    "dlats = np.mod(np.degrees(grid.lats)+90, 180.0)\n",
    "\n",
    "# Map mesh coordinates on ETOPO1 dataset\n",
    "ilons = img.shape[0] * dlons / 360.0\n",
    "ilats = img.shape[1] * dlats / 180.0\n",
    "\n",
    "icoords = np.stack((ilons, ilats))"
   ]
  },
  {
   "cell_type": "markdown",
   "metadata": {},
   "source": [
    "Store mesh information:\n",
    "\n",
    "* lat: latitude of each node\n",
    "* lon: longitude of each node"
   ]
  },
  {
   "cell_type": "code",
   "execution_count": 14,
   "metadata": {},
   "outputs": [],
   "source": [
    "np.savez_compressed(dir_lvl+'/icoord_rain', v=icoords)"
   ]
  },
  {
   "cell_type": "markdown",
   "metadata": {},
   "source": [
    "## ETOPO1 elevation"
   ]
  },
  {
   "cell_type": "code",
   "execution_count": 15,
   "metadata": {},
   "outputs": [],
   "source": [
    "etopofile = \"data/ETOPO1.tif\""
   ]
  },
  {
   "cell_type": "code",
   "execution_count": 16,
   "metadata": {},
   "outputs": [],
   "source": [
    "gtiff = gdal.Open(etopofile)\n",
    "\n",
    "width = gtiff.RasterXSize\n",
    "height = gtiff.RasterYSize\n",
    "gt = gtiff.GetGeoTransform()\n",
    "img = gtiff.GetRasterBand(1).ReadAsArray().T\n",
    "img = np.fliplr(img)\n",
    "\n",
    "\n",
    "# Convert spherical mesh longitudes and latitudes to degrees\n",
    "dlons = np.mod(np.degrees(grid.lons)+180.0, 360.0)\n",
    "dlats = np.mod(np.degrees(grid.lats)+90, 180.0)\n",
    "\n",
    "# Map mesh coordinates on ETOPO1 dataset\n",
    "ilons = img.shape[0] * dlons / 360.0\n",
    "ilats = img.shape[1] * dlats / 180.0\n",
    "\n",
    "icoords = np.stack((ilons, ilats))"
   ]
  },
  {
   "cell_type": "markdown",
   "metadata": {},
   "source": [
    "Store mesh information:\n",
    "\n",
    "* lat: latitude of each node\n",
    "* lon: longitude of each node"
   ]
  },
  {
   "cell_type": "code",
   "execution_count": 17,
   "metadata": {},
   "outputs": [],
   "source": [
    "np.savez_compressed(dir_lvl+'/icoord_etopo', v=icoords)"
   ]
  },
  {
   "cell_type": "code",
   "execution_count": null,
   "metadata": {},
   "outputs": [],
   "source": []
  }
 ],
 "metadata": {
  "kernelspec": {
   "display_name": "Python 3",
   "language": "python",
   "name": "python3"
  },
  "language_info": {
   "codemirror_mode": {
    "name": "ipython",
    "version": 3
   },
   "file_extension": ".py",
   "mimetype": "text/x-python",
   "name": "python",
   "nbconvert_exporter": "python",
   "pygments_lexer": "ipython3",
   "version": "3.5.3"
  }
 },
 "nbformat": 4,
 "nbformat_minor": 2
}
